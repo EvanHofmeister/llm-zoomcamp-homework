{
 "cells": [
  {
   "metadata": {},
   "cell_type": "markdown",
   "source": [
    "## Homework: Evaluation and Monitoring\n",
    "\n",
    "In this homework, we'll evaluate the quality of our RAG system.\n",
    "\n",
    "> It's possible that your answers won't match exactly. If it's the case, select the closest one.\n",
    "\n",
    "Solution:\n",
    "\n",
    "* Video: TBA\n",
    "* Notebook: TBA"
   ],
   "id": "3d2fc741f66cf318"
  },
  {
   "metadata": {},
   "cell_type": "markdown",
   "source": [
    "## Getting the data\n",
    "\n",
    "Let's start by getting the dataset. We will use the data we generated in the module.\n",
    "\n",
    "In particular, we'll evaluate the quality of our RAG system\n",
    "with [gpt-4o-mini](https://github.com/DataTalksClub/llm-zoomcamp/blob/main/04-monitoring/data/results-gpt4o-mini.csv)"
   ],
   "id": "2dc75515e04197a1"
  },
  {
   "metadata": {
    "ExecuteTime": {
     "end_time": "2024-08-05T03:10:49.877680Z",
     "start_time": "2024-08-05T03:10:49.869744Z"
    }
   },
   "cell_type": "code",
   "source": [
    "import pandas as pd\n",
    "import numpy as np\n",
    "from sentence_transformers import SentenceTransformer\n",
    "from tqdm.auto import tqdm\n",
    "from rouge import Rouge"
   ],
   "id": "eafbce7d16f2dceb",
   "outputs": [],
   "execution_count": 15
  },
  {
   "metadata": {
    "ExecuteTime": {
     "end_time": "2024-08-05T02:59:53.003428Z",
     "start_time": "2024-08-05T02:59:46.150361Z"
    }
   },
   "cell_type": "code",
   "source": [
    "## Read it:\n",
    "url = 'https://github.com/DataTalksClub/llm-zoomcamp/blob/main/04-monitoring/data/results-gpt4o-mini.csv?raw=1'\n",
    "df = pd.read_csv(url)"
   ],
   "id": "c889cd5e859ca4e8",
   "outputs": [],
   "execution_count": 2
  },
  {
   "metadata": {
    "ExecuteTime": {
     "end_time": "2024-08-05T02:59:53.018290Z",
     "start_time": "2024-08-05T02:59:53.005129Z"
    }
   },
   "cell_type": "code",
   "source": [
    "## We will use only the first 300 documents:\n",
    "\n",
    "df = df.iloc[:300]\n",
    "df"
   ],
   "id": "3c7c93cc8c6bbfb",
   "outputs": [
    {
     "data": {
      "text/plain": [
       "                                            answer_llm  \\\n",
       "0    You can sign up for the course by visiting the...   \n",
       "1    You can sign up using the link provided in the...   \n",
       "2    Yes, there is an FAQ for the Machine Learning ...   \n",
       "3    The context does not provide any specific info...   \n",
       "4    To structure your questions and answers for th...   \n",
       "..                                                 ...   \n",
       "295  An alternative way to load the data using the ...   \n",
       "296  You can directly download the dataset from Git...   \n",
       "297  You can fetch data for homework using the `req...   \n",
       "298  If the status code is 200 when downloading dat...   \n",
       "299  If the file download fails when using the requ...   \n",
       "\n",
       "                                           answer_orig  document  \\\n",
       "0    Machine Learning Zoomcamp FAQ\\nThe purpose of ...  0227b872   \n",
       "1    Machine Learning Zoomcamp FAQ\\nThe purpose of ...  0227b872   \n",
       "2    Machine Learning Zoomcamp FAQ\\nThe purpose of ...  0227b872   \n",
       "3    Machine Learning Zoomcamp FAQ\\nThe purpose of ...  0227b872   \n",
       "4    Machine Learning Zoomcamp FAQ\\nThe purpose of ...  0227b872   \n",
       "..                                                 ...       ...   \n",
       "295  Above users showed how to load the dataset dir...  8d209d6d   \n",
       "296  Above users showed how to load the dataset dir...  8d209d6d   \n",
       "297  Above users showed how to load the dataset dir...  8d209d6d   \n",
       "298  Above users showed how to load the dataset dir...  8d209d6d   \n",
       "299  Above users showed how to load the dataset dir...  8d209d6d   \n",
       "\n",
       "                                              question  \\\n",
       "0                  Where can I sign up for the course?   \n",
       "1                   Can you provide a link to sign up?   \n",
       "2    Is there an FAQ for this Machine Learning course?   \n",
       "3    Does this course have a GitHub repository for ...   \n",
       "4    How can I structure my questions and answers f...   \n",
       "..                                                 ...   \n",
       "295  What is an alternative way to load the data us...   \n",
       "296  How can I directly download the dataset from G...   \n",
       "297  Could you share a method to fetch data for hom...   \n",
       "298  What should I do if the status code is 200 whe...   \n",
       "299  What does the code using the requests library ...   \n",
       "\n",
       "                        course  \n",
       "0    machine-learning-zoomcamp  \n",
       "1    machine-learning-zoomcamp  \n",
       "2    machine-learning-zoomcamp  \n",
       "3    machine-learning-zoomcamp  \n",
       "4    machine-learning-zoomcamp  \n",
       "..                         ...  \n",
       "295  machine-learning-zoomcamp  \n",
       "296  machine-learning-zoomcamp  \n",
       "297  machine-learning-zoomcamp  \n",
       "298  machine-learning-zoomcamp  \n",
       "299  machine-learning-zoomcamp  \n",
       "\n",
       "[300 rows x 5 columns]"
      ],
      "text/html": [
       "<div>\n",
       "<style scoped>\n",
       "    .dataframe tbody tr th:only-of-type {\n",
       "        vertical-align: middle;\n",
       "    }\n",
       "\n",
       "    .dataframe tbody tr th {\n",
       "        vertical-align: top;\n",
       "    }\n",
       "\n",
       "    .dataframe thead th {\n",
       "        text-align: right;\n",
       "    }\n",
       "</style>\n",
       "<table border=\"1\" class=\"dataframe\">\n",
       "  <thead>\n",
       "    <tr style=\"text-align: right;\">\n",
       "      <th></th>\n",
       "      <th>answer_llm</th>\n",
       "      <th>answer_orig</th>\n",
       "      <th>document</th>\n",
       "      <th>question</th>\n",
       "      <th>course</th>\n",
       "    </tr>\n",
       "  </thead>\n",
       "  <tbody>\n",
       "    <tr>\n",
       "      <th>0</th>\n",
       "      <td>You can sign up for the course by visiting the...</td>\n",
       "      <td>Machine Learning Zoomcamp FAQ\\nThe purpose of ...</td>\n",
       "      <td>0227b872</td>\n",
       "      <td>Where can I sign up for the course?</td>\n",
       "      <td>machine-learning-zoomcamp</td>\n",
       "    </tr>\n",
       "    <tr>\n",
       "      <th>1</th>\n",
       "      <td>You can sign up using the link provided in the...</td>\n",
       "      <td>Machine Learning Zoomcamp FAQ\\nThe purpose of ...</td>\n",
       "      <td>0227b872</td>\n",
       "      <td>Can you provide a link to sign up?</td>\n",
       "      <td>machine-learning-zoomcamp</td>\n",
       "    </tr>\n",
       "    <tr>\n",
       "      <th>2</th>\n",
       "      <td>Yes, there is an FAQ for the Machine Learning ...</td>\n",
       "      <td>Machine Learning Zoomcamp FAQ\\nThe purpose of ...</td>\n",
       "      <td>0227b872</td>\n",
       "      <td>Is there an FAQ for this Machine Learning course?</td>\n",
       "      <td>machine-learning-zoomcamp</td>\n",
       "    </tr>\n",
       "    <tr>\n",
       "      <th>3</th>\n",
       "      <td>The context does not provide any specific info...</td>\n",
       "      <td>Machine Learning Zoomcamp FAQ\\nThe purpose of ...</td>\n",
       "      <td>0227b872</td>\n",
       "      <td>Does this course have a GitHub repository for ...</td>\n",
       "      <td>machine-learning-zoomcamp</td>\n",
       "    </tr>\n",
       "    <tr>\n",
       "      <th>4</th>\n",
       "      <td>To structure your questions and answers for th...</td>\n",
       "      <td>Machine Learning Zoomcamp FAQ\\nThe purpose of ...</td>\n",
       "      <td>0227b872</td>\n",
       "      <td>How can I structure my questions and answers f...</td>\n",
       "      <td>machine-learning-zoomcamp</td>\n",
       "    </tr>\n",
       "    <tr>\n",
       "      <th>...</th>\n",
       "      <td>...</td>\n",
       "      <td>...</td>\n",
       "      <td>...</td>\n",
       "      <td>...</td>\n",
       "      <td>...</td>\n",
       "    </tr>\n",
       "    <tr>\n",
       "      <th>295</th>\n",
       "      <td>An alternative way to load the data using the ...</td>\n",
       "      <td>Above users showed how to load the dataset dir...</td>\n",
       "      <td>8d209d6d</td>\n",
       "      <td>What is an alternative way to load the data us...</td>\n",
       "      <td>machine-learning-zoomcamp</td>\n",
       "    </tr>\n",
       "    <tr>\n",
       "      <th>296</th>\n",
       "      <td>You can directly download the dataset from Git...</td>\n",
       "      <td>Above users showed how to load the dataset dir...</td>\n",
       "      <td>8d209d6d</td>\n",
       "      <td>How can I directly download the dataset from G...</td>\n",
       "      <td>machine-learning-zoomcamp</td>\n",
       "    </tr>\n",
       "    <tr>\n",
       "      <th>297</th>\n",
       "      <td>You can fetch data for homework using the `req...</td>\n",
       "      <td>Above users showed how to load the dataset dir...</td>\n",
       "      <td>8d209d6d</td>\n",
       "      <td>Could you share a method to fetch data for hom...</td>\n",
       "      <td>machine-learning-zoomcamp</td>\n",
       "    </tr>\n",
       "    <tr>\n",
       "      <th>298</th>\n",
       "      <td>If the status code is 200 when downloading dat...</td>\n",
       "      <td>Above users showed how to load the dataset dir...</td>\n",
       "      <td>8d209d6d</td>\n",
       "      <td>What should I do if the status code is 200 whe...</td>\n",
       "      <td>machine-learning-zoomcamp</td>\n",
       "    </tr>\n",
       "    <tr>\n",
       "      <th>299</th>\n",
       "      <td>If the file download fails when using the requ...</td>\n",
       "      <td>Above users showed how to load the dataset dir...</td>\n",
       "      <td>8d209d6d</td>\n",
       "      <td>What does the code using the requests library ...</td>\n",
       "      <td>machine-learning-zoomcamp</td>\n",
       "    </tr>\n",
       "  </tbody>\n",
       "</table>\n",
       "<p>300 rows × 5 columns</p>\n",
       "</div>"
      ]
     },
     "execution_count": 3,
     "metadata": {},
     "output_type": "execute_result"
    }
   ],
   "execution_count": 3
  },
  {
   "metadata": {},
   "cell_type": "markdown",
   "source": [
    "## Q1. Getting the embeddings model\n",
    "\n",
    "Now, get the embeddings model `multi-qa-mpnet-base-dot-v1` from\n",
    "[the Sentence Transformer library](https://www.sbert.net/docs/sentence_transformer/pretrained_models.html#model-overview)\n",
    "\n",
    "> Note: this is not the same model as in HW3\n",
    "\n",
    "```bash\n",
    "from sentence_transformers import SentenceTransformer\n",
    "embedding_model = SentenceTransformer(model_name)\n",
    "```\n",
    "\n",
    "Create the embeddings for the first LLM answer:\n",
    "\n",
    "```python\n",
    "answer_llm = df.iloc[0].answer_llm\n",
    "```\n",
    "\n",
    "What's the first value of the resulting vector?\n",
    "\n",
    "* -0.42 ANS\n",
    "* -0.22\n",
    "* -0.02\n",
    "* 0.21"
   ],
   "id": "c08db01ac94fa43b"
  },
  {
   "metadata": {
    "ExecuteTime": {
     "end_time": "2024-08-05T03:00:05.355981Z",
     "start_time": "2024-08-05T02:59:53.019773Z"
    }
   },
   "cell_type": "code",
   "source": [
    "model_name = \"multi-qa-mpnet-base-dot-v1\"\n",
    "embedding_model = SentenceTransformer(model_name)"
   ],
   "id": "e657cc9991df800d",
   "outputs": [],
   "execution_count": 4
  },
  {
   "metadata": {
    "ExecuteTime": {
     "end_time": "2024-08-05T03:00:06.170891Z",
     "start_time": "2024-08-05T03:00:05.359033Z"
    }
   },
   "cell_type": "code",
   "source": [
    "answer_llm = df.iloc[0].answer_llm\n",
    "embeddings = embedding_model.encode(answer_llm)\n",
    "first_value = embeddings[0]"
   ],
   "id": "27a1317528328d3",
   "outputs": [],
   "execution_count": 5
  },
  {
   "metadata": {
    "ExecuteTime": {
     "end_time": "2024-08-05T03:01:22.213590Z",
     "start_time": "2024-08-05T03:01:22.210010Z"
    }
   },
   "cell_type": "code",
   "source": "first_value",
   "id": "6807d9291a9b8fa2",
   "outputs": [
    {
     "data": {
      "text/plain": [
       "-0.42244658"
      ]
     },
     "execution_count": 8,
     "metadata": {},
     "output_type": "execute_result"
    }
   ],
   "execution_count": 8
  },
  {
   "metadata": {},
   "cell_type": "markdown",
   "source": [
    "## Q2. Computing the dot product\n",
    "\n",
    "\n",
    "Now for each answer pair, let's create embeddings and compute dot product between them\n",
    "\n",
    "We will put the results (scores) into the `evaluations` list\n",
    "\n",
    "What's the 75% percentile of the score?\n",
    "\n",
    "* 21.67\n",
    "* 31.67 ANS\n",
    "* 41.67\n",
    "* 51.67"
   ],
   "id": "a22cd6d869646ae1"
  },
  {
   "metadata": {
    "ExecuteTime": {
     "end_time": "2024-08-05T03:03:20.369617Z",
     "start_time": "2024-08-05T03:02:04.126910Z"
    }
   },
   "cell_type": "code",
   "source": [
    "for i, row in tqdm(df.iterrows()):\n",
    "    embeddings_answer_llm = embedding_model.encode(row.answer_llm)\n",
    "    embeddings_answer_orig = embedding_model.encode(row.answer_orig)  \n",
    "    df.at[i, \"cosine\"] = embeddings_answer_llm.dot(embeddings_answer_orig)"
   ],
   "id": "5e3b9fc899999add",
   "outputs": [
    {
     "name": "stderr",
     "output_type": "stream",
     "text": [
      "300it [01:16,  3.94it/s]\n"
     ]
    }
   ],
   "execution_count": 9
  },
  {
   "metadata": {
    "ExecuteTime": {
     "end_time": "2024-08-05T03:03:20.377427Z",
     "start_time": "2024-08-05T03:03:20.371183Z"
    }
   },
   "cell_type": "code",
   "source": "df[\"cosine\"].describe()",
   "id": "9974a27b68ba957f",
   "outputs": [
    {
     "data": {
      "text/plain": [
       "count    300.000000\n",
       "mean      27.495996\n",
       "std        6.384743\n",
       "min        4.547925\n",
       "25%       24.307841\n",
       "50%       28.336862\n",
       "75%       31.674304\n",
       "max       39.476013\n",
       "Name: cosine, dtype: float64"
      ]
     },
     "execution_count": 10,
     "metadata": {},
     "output_type": "execute_result"
    }
   ],
   "execution_count": 10
  },
  {
   "metadata": {
    "ExecuteTime": {
     "end_time": "2024-08-05T03:04:56.526777Z",
     "start_time": "2024-08-05T03:04:56.521877Z"
    }
   },
   "cell_type": "code",
   "source": "np.percentile(df[\"cosine\"], 75)",
   "id": "c43170eea86d6fd4",
   "outputs": [
    {
     "data": {
      "text/plain": [
       "31.674304008483887"
      ]
     },
     "execution_count": 11,
     "metadata": {},
     "output_type": "execute_result"
    }
   ],
   "execution_count": 11
  },
  {
   "metadata": {},
   "cell_type": "markdown",
   "source": [
    "## Q3. Computing the cosine\n",
    "\n",
    "From Q2, we can see that the results are not within the [0, 1] range. It's because the vectors coming from this model are not normalized.\n",
    "\n",
    "So we need to normalize them.\n",
    "\n",
    "To do it, we \n",
    "\n",
    "* Compute the norm of a vector\n",
    "* Divide each element by this norm\n",
    "\n",
    "So, for vector `v`, it'll be `v / ||v||`\n",
    "\n",
    "In numpy, this is how you do it:\n",
    "\n",
    "```python\n",
    "norm = np.sqrt((v * v).sum())\n",
    "v_norm = v / norm\n",
    "```\n",
    "\n",
    "Let's put it into a function and then compute dot product \n",
    "between normalized vectors. This will give us cosine similarity\n",
    "\n",
    "What's the 75% cosine in the scores?\n",
    "\n",
    "* 0.63\n",
    "* 0.73\n",
    "* 0.83 ANS\n",
    "* 0.93"
   ],
   "id": "12347f06b136a545"
  },
  {
   "metadata": {
    "ExecuteTime": {
     "end_time": "2024-08-05T03:06:37.660081Z",
     "start_time": "2024-08-05T03:06:37.657360Z"
    }
   },
   "cell_type": "code",
   "source": [
    "def vector_normalized(vector):\n",
    "    norm = np.sqrt((vector * vector).sum())\n",
    "    return vector / norm"
   ],
   "id": "a0387682e2e85340",
   "outputs": [],
   "execution_count": 12
  },
  {
   "metadata": {
    "ExecuteTime": {
     "end_time": "2024-08-05T03:06:55.424904Z",
     "start_time": "2024-08-05T03:06:37.761649Z"
    }
   },
   "cell_type": "code",
   "source": [
    "for i, row in tqdm(df.iterrows()):\n",
    "    embeddings_answer_llm = embedding_model.encode(row.answer_llm)\n",
    "    embeddings_answer_orig = embedding_model.encode(row.answer_orig)\n",
    "    embeddings_answer_llm_normalized = vector_normalized(embeddings_answer_llm)\n",
    "    embeddings_answer_orig_normalized = vector_normalized(embeddings_answer_orig)\n",
    "\n",
    "    df.at[i, \"cosine_normalized\"] = embeddings_answer_llm_normalized.dot(embeddings_answer_orig_normalized)"
   ],
   "id": "ef51bdaa5582c755",
   "outputs": [
    {
     "name": "stderr",
     "output_type": "stream",
     "text": [
      "300it [00:17, 16.99it/s]\n"
     ]
    }
   ],
   "execution_count": 13
  },
  {
   "metadata": {
    "ExecuteTime": {
     "end_time": "2024-08-05T03:09:19.179486Z",
     "start_time": "2024-08-05T03:09:19.173828Z"
    }
   },
   "cell_type": "code",
   "source": "np.percentile(df[\"cosine_normalized\"], 75)",
   "id": "75609da298a2068d",
   "outputs": [
    {
     "data": {
      "text/plain": [
       "0.8362347632646561"
      ]
     },
     "execution_count": 14,
     "metadata": {},
     "output_type": "execute_result"
    }
   ],
   "execution_count": 14
  },
  {
   "metadata": {},
   "cell_type": "markdown",
   "source": [
    "## Q4. Rouge\n",
    "\n",
    "Now we will explore an alternative metric - the ROUGE score.  \n",
    "\n",
    "This is a set of metrics that compares two answers based on the overlap of n-grams, word sequences, and word pairs.\n",
    "\n",
    "It can give a more nuanced view of text similarity than just cosine similarity alone.\n",
    "\n",
    "We don't need to implement it ourselves, there's a python package for it:\n",
    "\n",
    "```bash\n",
    "pip install rouge\n",
    "```\n",
    "\n",
    "(The latest version at the moment of writing is `1.0.1`)\n",
    "\n",
    "Let's compute the ROUGE score between the answers at the index 10 of our dataframe (`doc_id=5170565b`)\n",
    "\n",
    "```\n",
    "from rouge import Rouge\n",
    "rouge_scorer = Rouge()\n",
    "\n",
    "scores = rouge_scorer.get_scores(r['answer_llm'], r['answer_orig'])[0]\n",
    "```\n",
    "\n",
    "There are three scores: `rouge-1`, `rouge-2` and `rouge-l`, and precision, recall and F1 score for each.\n",
    "\n",
    "* `rouge-1` - the overlap of unigrams,\n",
    "* `rouge-2` - bigrams,\n",
    "* `rouge-l` - the longest common subsequence\n",
    "\n",
    "What's the F score for `rouge-1`?\n",
    "\n",
    "- 0.35\n",
    "- 0.45 ANS\n",
    "- 0.55\n",
    "- 0.65"
   ],
   "id": "e688202bdd170636"
  },
  {
   "metadata": {
    "ExecuteTime": {
     "end_time": "2024-08-05T03:10:59.162018Z",
     "start_time": "2024-08-05T03:10:59.154647Z"
    }
   },
   "cell_type": "code",
   "source": [
    "row_10 = df.iloc[10]\n",
    "row_10"
   ],
   "id": "3b2b62647ba152b8",
   "outputs": [
    {
     "data": {
      "text/plain": [
       "answer_llm           Yes, all sessions are recorded, so if you miss...\n",
       "answer_orig          Everything is recorded, so you won’t miss anyt...\n",
       "document                                                      5170565b\n",
       "question                          Are sessions recorded if I miss one?\n",
       "course                                       machine-learning-zoomcamp\n",
       "cosine                                                       32.344711\n",
       "cosine_normalized                                             0.777956\n",
       "Name: 10, dtype: object"
      ]
     },
     "execution_count": 16,
     "metadata": {},
     "output_type": "execute_result"
    }
   ],
   "execution_count": 16
  },
  {
   "metadata": {
    "ExecuteTime": {
     "end_time": "2024-08-05T03:10:59.291882Z",
     "start_time": "2024-08-05T03:10:59.288850Z"
    }
   },
   "cell_type": "code",
   "source": "rouge_scorer = Rouge()",
   "id": "ff0551aafec66588",
   "outputs": [],
   "execution_count": 17
  },
  {
   "metadata": {
    "ExecuteTime": {
     "end_time": "2024-08-05T03:11:25.386598Z",
     "start_time": "2024-08-05T03:11:25.379252Z"
    }
   },
   "cell_type": "code",
   "source": [
    "rouge_scores = rouge_scorer.get_scores(row_10.answer_llm, row_10.answer_orig)\n",
    "rouge_scores"
   ],
   "id": "b6558c03ea7154d4",
   "outputs": [
    {
     "data": {
      "text/plain": [
       "[{'rouge-1': {'r': 0.45454545454545453,\n",
       "   'p': 0.45454545454545453,\n",
       "   'f': 0.45454544954545456},\n",
       "  'rouge-2': {'r': 0.21621621621621623,\n",
       "   'p': 0.21621621621621623,\n",
       "   'f': 0.21621621121621637},\n",
       "  'rouge-l': {'r': 0.3939393939393939,\n",
       "   'p': 0.3939393939393939,\n",
       "   'f': 0.393939388939394}}]"
      ]
     },
     "execution_count": 18,
     "metadata": {},
     "output_type": "execute_result"
    }
   ],
   "execution_count": 18
  },
  {
   "metadata": {
    "ExecuteTime": {
     "end_time": "2024-08-05T03:11:38.771326Z",
     "start_time": "2024-08-05T03:11:38.766740Z"
    }
   },
   "cell_type": "code",
   "source": "rouge_scores[0]['rouge-1']['f']",
   "id": "7a7fea5753258293",
   "outputs": [
    {
     "data": {
      "text/plain": [
       "0.45454544954545456"
      ]
     },
     "execution_count": 19,
     "metadata": {},
     "output_type": "execute_result"
    }
   ],
   "execution_count": 19
  },
  {
   "metadata": {},
   "cell_type": "markdown",
   "source": [
    "## Q5. Average rouge score\n",
    "\n",
    "Let's compute the average F-score between `rouge-1`, `rouge-2` and `rouge-l` for the same record from Q4\n",
    "\n",
    "- 0.35 ANS\n",
    "- 0.45\n",
    "- 0.55\n",
    "- 0.65"
   ],
   "id": "9d1c5f01637acbb2"
  },
  {
   "metadata": {
    "ExecuteTime": {
     "end_time": "2024-08-05T03:15:29.408689Z",
     "start_time": "2024-08-05T03:15:29.402969Z"
    }
   },
   "cell_type": "code",
   "source": [
    "rouge_1_f1 = rouge_scores[0]['rouge-1']['f']\n",
    "rouge_2_f1 = rouge_scores[0]['rouge-2']['f']\n",
    "rouge_l_f1 = rouge_scores[0]['rouge-l']['f']"
   ],
   "id": "2fe19718e5b15cef",
   "outputs": [],
   "execution_count": 21
  },
  {
   "metadata": {
    "ExecuteTime": {
     "end_time": "2024-08-05T03:15:29.595765Z",
     "start_time": "2024-08-05T03:15:29.591548Z"
    }
   },
   "cell_type": "code",
   "source": "np.mean([rouge_1_f1,rouge_2_f1,rouge_l_f1])",
   "id": "6242fc208b3566db",
   "outputs": [
    {
     "data": {
      "text/plain": [
       "0.35490034990035496"
      ]
     },
     "execution_count": 22,
     "metadata": {},
     "output_type": "execute_result"
    }
   ],
   "execution_count": 22
  },
  {
   "metadata": {},
   "cell_type": "markdown",
   "source": [
    "## Q6. Average rouge score for all the data points\n",
    "\n",
    "Now let's compute the score for all the records and create a dataframe from them.\n",
    "\n",
    "What's the average `rouge_2` across all the records?\n",
    "\n",
    "- 0.10\n",
    "- 0.20\n",
    "- 0.30\n",
    "- 0.40 ANS"
   ],
   "id": "317057f4520146fa"
  },
  {
   "metadata": {
    "ExecuteTime": {
     "end_time": "2024-08-05T03:33:13.684044Z",
     "start_time": "2024-08-05T03:33:12.952831Z"
    }
   },
   "cell_type": "code",
   "source": [
    "all_rouge_scores = []\n",
    "\n",
    "for i, row in tqdm(df.iterrows()):\n",
    "    rouge_scores = rouge_scorer.get_scores(row.answer_llm, row.answer_orig)\n",
    "    all_rouge_scores.append(rouge_scores)"
   ],
   "id": "876dd57a83cbc19f",
   "outputs": [
    {
     "name": "stderr",
     "output_type": "stream",
     "text": [
      "300it [00:00, 413.02it/s]\n"
     ]
    }
   ],
   "execution_count": 30
  },
  {
   "metadata": {
    "ExecuteTime": {
     "end_time": "2024-08-05T03:33:15.057765Z",
     "start_time": "2024-08-05T03:33:15.046689Z"
    }
   },
   "cell_type": "code",
   "source": "df.head(20)",
   "id": "14fafd645919af66",
   "outputs": [
    {
     "data": {
      "text/plain": [
       "                                           answer_llm  \\\n",
       "0   You can sign up for the course by visiting the...   \n",
       "1   You can sign up using the link provided in the...   \n",
       "2   Yes, there is an FAQ for the Machine Learning ...   \n",
       "3   The context does not provide any specific info...   \n",
       "4   To structure your questions and answers for th...   \n",
       "5   The course videos are pre-recorded, and you ca...   \n",
       "6   You can start watching the course videos right...   \n",
       "7   Yes, the live office hours sessions are recorded.   \n",
       "8   You can find the office hours sessions in the ...   \n",
       "9   You can access the pre-recorded course videos ...   \n",
       "10  Yes, all sessions are recorded, so if you miss...   \n",
       "11  Yes, you can ask your questions in advance if ...   \n",
       "12  If you miss a session, don't worry! Everything...   \n",
       "13  Yes, there is a way to catch up on a missed se...   \n",
       "14  Yes, you can still interact with instructors a...   \n",
       "15  The course will cover the bare minimum of theo...   \n",
       "16  No, the course will not cover theoretical deri...   \n",
       "17  The focus of the course is more on practice ra...   \n",
       "18  To find more about the theoretical topics not ...   \n",
       "19  Yes, the course will help you understand how t...   \n",
       "\n",
       "                                          answer_orig  document  \\\n",
       "0   Machine Learning Zoomcamp FAQ\\nThe purpose of ...  0227b872   \n",
       "1   Machine Learning Zoomcamp FAQ\\nThe purpose of ...  0227b872   \n",
       "2   Machine Learning Zoomcamp FAQ\\nThe purpose of ...  0227b872   \n",
       "3   Machine Learning Zoomcamp FAQ\\nThe purpose of ...  0227b872   \n",
       "4   Machine Learning Zoomcamp FAQ\\nThe purpose of ...  0227b872   \n",
       "5   The course videos are pre-recorded, you can st...  39fda9f0   \n",
       "6   The course videos are pre-recorded, you can st...  39fda9f0   \n",
       "7   The course videos are pre-recorded, you can st...  39fda9f0   \n",
       "8   The course videos are pre-recorded, you can st...  39fda9f0   \n",
       "9   The course videos are pre-recorded, you can st...  39fda9f0   \n",
       "10  Everything is recorded, so you won’t miss anyt...  5170565b   \n",
       "11  Everything is recorded, so you won’t miss anyt...  5170565b   \n",
       "12  Everything is recorded, so you won’t miss anyt...  5170565b   \n",
       "13  Everything is recorded, so you won’t miss anyt...  5170565b   \n",
       "14  Everything is recorded, so you won’t miss anyt...  5170565b   \n",
       "15  The bare minimum. The focus is more on practic...  ecca790c   \n",
       "16  The bare minimum. The focus is more on practic...  ecca790c   \n",
       "17  The bare minimum. The focus is more on practic...  ecca790c   \n",
       "18  The bare minimum. The focus is more on practic...  ecca790c   \n",
       "19  The bare minimum. The focus is more on practic...  ecca790c   \n",
       "\n",
       "                                             question  \\\n",
       "0                 Where can I sign up for the course?   \n",
       "1                  Can you provide a link to sign up?   \n",
       "2   Is there an FAQ for this Machine Learning course?   \n",
       "3   Does this course have a GitHub repository for ...   \n",
       "4   How can I structure my questions and answers f...   \n",
       "5         Are the course videos live or pre-recorded?   \n",
       "6        When can I start watching the course videos?   \n",
       "7        Are the live office hours sessions recorded?   \n",
       "8         Where can I find the office hours sessions?   \n",
       "9   Where can I access the pre-recorded course vid...   \n",
       "10               Are sessions recorded if I miss one?   \n",
       "11  Can I ask questions in advance if I can't atte...   \n",
       "12  How will my questions be addressed if I miss a...   \n",
       "13    Is there a way to catch up on a missed session?   \n",
       "14  Can I still interact with instructors after mi...   \n",
       "15  How much theoretical content is there in the c...   \n",
       "16  Will the course cover theoretical derivations ...   \n",
       "17  Is the focus of the course more on practice or...   \n",
       "18  Where can I find more about the theoretical to...   \n",
       "19  Will the course help me understand how to use ...   \n",
       "\n",
       "                       course     cosine  cosine_normalized  rouge_l_f1  \n",
       "0   machine-learning-zoomcamp  17.515997           0.506754    0.153846  \n",
       "1   machine-learning-zoomcamp  13.418406           0.388549    0.153846  \n",
       "2   machine-learning-zoomcamp  25.313255           0.718599    0.153846  \n",
       "3   machine-learning-zoomcamp  12.147417           0.337266    0.153846  \n",
       "4   machine-learning-zoomcamp  18.747723           0.521792    0.153846  \n",
       "5   machine-learning-zoomcamp  33.970398           0.830532    0.153846  \n",
       "6   machine-learning-zoomcamp  30.251696           0.746283    0.153846  \n",
       "7   machine-learning-zoomcamp  29.521582           0.694406    0.153846  \n",
       "8   machine-learning-zoomcamp  35.272198           0.846886    0.153846  \n",
       "9   machine-learning-zoomcamp  27.751755           0.655907    0.153846  \n",
       "10  machine-learning-zoomcamp  32.344711           0.777956    0.153846  \n",
       "11  machine-learning-zoomcamp  31.441849           0.783566    0.153846  \n",
       "12  machine-learning-zoomcamp  36.380730           0.904688    0.153846  \n",
       "13  machine-learning-zoomcamp  33.340504           0.806303    0.153846  \n",
       "14  machine-learning-zoomcamp  30.606163           0.727596    0.153846  \n",
       "15  machine-learning-zoomcamp  32.503044           0.775189    0.153846  \n",
       "16  machine-learning-zoomcamp  29.674446           0.715166    0.153846  \n",
       "17  machine-learning-zoomcamp  24.353460           0.589056    0.153846  \n",
       "18  machine-learning-zoomcamp  20.132458           0.533229    0.153846  \n",
       "19  machine-learning-zoomcamp  23.995464           0.585759    0.153846  "
      ],
      "text/html": [
       "<div>\n",
       "<style scoped>\n",
       "    .dataframe tbody tr th:only-of-type {\n",
       "        vertical-align: middle;\n",
       "    }\n",
       "\n",
       "    .dataframe tbody tr th {\n",
       "        vertical-align: top;\n",
       "    }\n",
       "\n",
       "    .dataframe thead th {\n",
       "        text-align: right;\n",
       "    }\n",
       "</style>\n",
       "<table border=\"1\" class=\"dataframe\">\n",
       "  <thead>\n",
       "    <tr style=\"text-align: right;\">\n",
       "      <th></th>\n",
       "      <th>answer_llm</th>\n",
       "      <th>answer_orig</th>\n",
       "      <th>document</th>\n",
       "      <th>question</th>\n",
       "      <th>course</th>\n",
       "      <th>cosine</th>\n",
       "      <th>cosine_normalized</th>\n",
       "      <th>rouge_l_f1</th>\n",
       "    </tr>\n",
       "  </thead>\n",
       "  <tbody>\n",
       "    <tr>\n",
       "      <th>0</th>\n",
       "      <td>You can sign up for the course by visiting the...</td>\n",
       "      <td>Machine Learning Zoomcamp FAQ\\nThe purpose of ...</td>\n",
       "      <td>0227b872</td>\n",
       "      <td>Where can I sign up for the course?</td>\n",
       "      <td>machine-learning-zoomcamp</td>\n",
       "      <td>17.515997</td>\n",
       "      <td>0.506754</td>\n",
       "      <td>0.153846</td>\n",
       "    </tr>\n",
       "    <tr>\n",
       "      <th>1</th>\n",
       "      <td>You can sign up using the link provided in the...</td>\n",
       "      <td>Machine Learning Zoomcamp FAQ\\nThe purpose of ...</td>\n",
       "      <td>0227b872</td>\n",
       "      <td>Can you provide a link to sign up?</td>\n",
       "      <td>machine-learning-zoomcamp</td>\n",
       "      <td>13.418406</td>\n",
       "      <td>0.388549</td>\n",
       "      <td>0.153846</td>\n",
       "    </tr>\n",
       "    <tr>\n",
       "      <th>2</th>\n",
       "      <td>Yes, there is an FAQ for the Machine Learning ...</td>\n",
       "      <td>Machine Learning Zoomcamp FAQ\\nThe purpose of ...</td>\n",
       "      <td>0227b872</td>\n",
       "      <td>Is there an FAQ for this Machine Learning course?</td>\n",
       "      <td>machine-learning-zoomcamp</td>\n",
       "      <td>25.313255</td>\n",
       "      <td>0.718599</td>\n",
       "      <td>0.153846</td>\n",
       "    </tr>\n",
       "    <tr>\n",
       "      <th>3</th>\n",
       "      <td>The context does not provide any specific info...</td>\n",
       "      <td>Machine Learning Zoomcamp FAQ\\nThe purpose of ...</td>\n",
       "      <td>0227b872</td>\n",
       "      <td>Does this course have a GitHub repository for ...</td>\n",
       "      <td>machine-learning-zoomcamp</td>\n",
       "      <td>12.147417</td>\n",
       "      <td>0.337266</td>\n",
       "      <td>0.153846</td>\n",
       "    </tr>\n",
       "    <tr>\n",
       "      <th>4</th>\n",
       "      <td>To structure your questions and answers for th...</td>\n",
       "      <td>Machine Learning Zoomcamp FAQ\\nThe purpose of ...</td>\n",
       "      <td>0227b872</td>\n",
       "      <td>How can I structure my questions and answers f...</td>\n",
       "      <td>machine-learning-zoomcamp</td>\n",
       "      <td>18.747723</td>\n",
       "      <td>0.521792</td>\n",
       "      <td>0.153846</td>\n",
       "    </tr>\n",
       "    <tr>\n",
       "      <th>5</th>\n",
       "      <td>The course videos are pre-recorded, and you ca...</td>\n",
       "      <td>The course videos are pre-recorded, you can st...</td>\n",
       "      <td>39fda9f0</td>\n",
       "      <td>Are the course videos live or pre-recorded?</td>\n",
       "      <td>machine-learning-zoomcamp</td>\n",
       "      <td>33.970398</td>\n",
       "      <td>0.830532</td>\n",
       "      <td>0.153846</td>\n",
       "    </tr>\n",
       "    <tr>\n",
       "      <th>6</th>\n",
       "      <td>You can start watching the course videos right...</td>\n",
       "      <td>The course videos are pre-recorded, you can st...</td>\n",
       "      <td>39fda9f0</td>\n",
       "      <td>When can I start watching the course videos?</td>\n",
       "      <td>machine-learning-zoomcamp</td>\n",
       "      <td>30.251696</td>\n",
       "      <td>0.746283</td>\n",
       "      <td>0.153846</td>\n",
       "    </tr>\n",
       "    <tr>\n",
       "      <th>7</th>\n",
       "      <td>Yes, the live office hours sessions are recorded.</td>\n",
       "      <td>The course videos are pre-recorded, you can st...</td>\n",
       "      <td>39fda9f0</td>\n",
       "      <td>Are the live office hours sessions recorded?</td>\n",
       "      <td>machine-learning-zoomcamp</td>\n",
       "      <td>29.521582</td>\n",
       "      <td>0.694406</td>\n",
       "      <td>0.153846</td>\n",
       "    </tr>\n",
       "    <tr>\n",
       "      <th>8</th>\n",
       "      <td>You can find the office hours sessions in the ...</td>\n",
       "      <td>The course videos are pre-recorded, you can st...</td>\n",
       "      <td>39fda9f0</td>\n",
       "      <td>Where can I find the office hours sessions?</td>\n",
       "      <td>machine-learning-zoomcamp</td>\n",
       "      <td>35.272198</td>\n",
       "      <td>0.846886</td>\n",
       "      <td>0.153846</td>\n",
       "    </tr>\n",
       "    <tr>\n",
       "      <th>9</th>\n",
       "      <td>You can access the pre-recorded course videos ...</td>\n",
       "      <td>The course videos are pre-recorded, you can st...</td>\n",
       "      <td>39fda9f0</td>\n",
       "      <td>Where can I access the pre-recorded course vid...</td>\n",
       "      <td>machine-learning-zoomcamp</td>\n",
       "      <td>27.751755</td>\n",
       "      <td>0.655907</td>\n",
       "      <td>0.153846</td>\n",
       "    </tr>\n",
       "    <tr>\n",
       "      <th>10</th>\n",
       "      <td>Yes, all sessions are recorded, so if you miss...</td>\n",
       "      <td>Everything is recorded, so you won’t miss anyt...</td>\n",
       "      <td>5170565b</td>\n",
       "      <td>Are sessions recorded if I miss one?</td>\n",
       "      <td>machine-learning-zoomcamp</td>\n",
       "      <td>32.344711</td>\n",
       "      <td>0.777956</td>\n",
       "      <td>0.153846</td>\n",
       "    </tr>\n",
       "    <tr>\n",
       "      <th>11</th>\n",
       "      <td>Yes, you can ask your questions in advance if ...</td>\n",
       "      <td>Everything is recorded, so you won’t miss anyt...</td>\n",
       "      <td>5170565b</td>\n",
       "      <td>Can I ask questions in advance if I can't atte...</td>\n",
       "      <td>machine-learning-zoomcamp</td>\n",
       "      <td>31.441849</td>\n",
       "      <td>0.783566</td>\n",
       "      <td>0.153846</td>\n",
       "    </tr>\n",
       "    <tr>\n",
       "      <th>12</th>\n",
       "      <td>If you miss a session, don't worry! Everything...</td>\n",
       "      <td>Everything is recorded, so you won’t miss anyt...</td>\n",
       "      <td>5170565b</td>\n",
       "      <td>How will my questions be addressed if I miss a...</td>\n",
       "      <td>machine-learning-zoomcamp</td>\n",
       "      <td>36.380730</td>\n",
       "      <td>0.904688</td>\n",
       "      <td>0.153846</td>\n",
       "    </tr>\n",
       "    <tr>\n",
       "      <th>13</th>\n",
       "      <td>Yes, there is a way to catch up on a missed se...</td>\n",
       "      <td>Everything is recorded, so you won’t miss anyt...</td>\n",
       "      <td>5170565b</td>\n",
       "      <td>Is there a way to catch up on a missed session?</td>\n",
       "      <td>machine-learning-zoomcamp</td>\n",
       "      <td>33.340504</td>\n",
       "      <td>0.806303</td>\n",
       "      <td>0.153846</td>\n",
       "    </tr>\n",
       "    <tr>\n",
       "      <th>14</th>\n",
       "      <td>Yes, you can still interact with instructors a...</td>\n",
       "      <td>Everything is recorded, so you won’t miss anyt...</td>\n",
       "      <td>5170565b</td>\n",
       "      <td>Can I still interact with instructors after mi...</td>\n",
       "      <td>machine-learning-zoomcamp</td>\n",
       "      <td>30.606163</td>\n",
       "      <td>0.727596</td>\n",
       "      <td>0.153846</td>\n",
       "    </tr>\n",
       "    <tr>\n",
       "      <th>15</th>\n",
       "      <td>The course will cover the bare minimum of theo...</td>\n",
       "      <td>The bare minimum. The focus is more on practic...</td>\n",
       "      <td>ecca790c</td>\n",
       "      <td>How much theoretical content is there in the c...</td>\n",
       "      <td>machine-learning-zoomcamp</td>\n",
       "      <td>32.503044</td>\n",
       "      <td>0.775189</td>\n",
       "      <td>0.153846</td>\n",
       "    </tr>\n",
       "    <tr>\n",
       "      <th>16</th>\n",
       "      <td>No, the course will not cover theoretical deri...</td>\n",
       "      <td>The bare minimum. The focus is more on practic...</td>\n",
       "      <td>ecca790c</td>\n",
       "      <td>Will the course cover theoretical derivations ...</td>\n",
       "      <td>machine-learning-zoomcamp</td>\n",
       "      <td>29.674446</td>\n",
       "      <td>0.715166</td>\n",
       "      <td>0.153846</td>\n",
       "    </tr>\n",
       "    <tr>\n",
       "      <th>17</th>\n",
       "      <td>The focus of the course is more on practice ra...</td>\n",
       "      <td>The bare minimum. The focus is more on practic...</td>\n",
       "      <td>ecca790c</td>\n",
       "      <td>Is the focus of the course more on practice or...</td>\n",
       "      <td>machine-learning-zoomcamp</td>\n",
       "      <td>24.353460</td>\n",
       "      <td>0.589056</td>\n",
       "      <td>0.153846</td>\n",
       "    </tr>\n",
       "    <tr>\n",
       "      <th>18</th>\n",
       "      <td>To find more about the theoretical topics not ...</td>\n",
       "      <td>The bare minimum. The focus is more on practic...</td>\n",
       "      <td>ecca790c</td>\n",
       "      <td>Where can I find more about the theoretical to...</td>\n",
       "      <td>machine-learning-zoomcamp</td>\n",
       "      <td>20.132458</td>\n",
       "      <td>0.533229</td>\n",
       "      <td>0.153846</td>\n",
       "    </tr>\n",
       "    <tr>\n",
       "      <th>19</th>\n",
       "      <td>Yes, the course will help you understand how t...</td>\n",
       "      <td>The bare minimum. The focus is more on practic...</td>\n",
       "      <td>ecca790c</td>\n",
       "      <td>Will the course help me understand how to use ...</td>\n",
       "      <td>machine-learning-zoomcamp</td>\n",
       "      <td>23.995464</td>\n",
       "      <td>0.585759</td>\n",
       "      <td>0.153846</td>\n",
       "    </tr>\n",
       "  </tbody>\n",
       "</table>\n",
       "</div>"
      ]
     },
     "execution_count": 31,
     "metadata": {},
     "output_type": "execute_result"
    }
   ],
   "execution_count": 31
  },
  {
   "metadata": {
    "ExecuteTime": {
     "end_time": "2024-08-05T03:33:16.195857Z",
     "start_time": "2024-08-05T03:33:16.192228Z"
    }
   },
   "cell_type": "code",
   "source": "round(df.rouge_l_f1.mean(),1)",
   "id": "dba7f3dc430d5ac5",
   "outputs": [
    {
     "data": {
      "text/plain": [
       "0.2"
      ]
     },
     "execution_count": 32,
     "metadata": {},
     "output_type": "execute_result"
    }
   ],
   "execution_count": 32
  },
  {
   "metadata": {},
   "cell_type": "code",
   "outputs": [],
   "execution_count": null,
   "source": "",
   "id": "c33b2b7e676b43d5"
  }
 ],
 "metadata": {
  "kernelspec": {
   "display_name": "Python 3",
   "language": "python",
   "name": "python3"
  },
  "language_info": {
   "codemirror_mode": {
    "name": "ipython",
    "version": 2
   },
   "file_extension": ".py",
   "mimetype": "text/x-python",
   "name": "python",
   "nbconvert_exporter": "python",
   "pygments_lexer": "ipython2",
   "version": "2.7.6"
  }
 },
 "nbformat": 4,
 "nbformat_minor": 5
}
