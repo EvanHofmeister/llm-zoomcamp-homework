{
 "cells": [
  {
   "cell_type": "markdown",
   "id": "bbe4dd89",
   "metadata": {},
   "source": [
    "## Homework: LLM Orchestration and Ingestion\n",
    "\n",
    "> It's possible that your answers won't match exactly. If it's the case, select the closest one.\n",
    "\n",
    "Our FAQ documents change with time: students add more records\n",
    "and edit existing ones. We need to keep our index in sync.\n",
    "\n",
    "There are two ways of doing it:\n",
    "\n",
    "1. Incremental: you only update records that got changed, created or deleted\n",
    "2. Full update: you recreate the entire index from scratch\n",
    "\n",
    "In this homework, we'll look at full update. We will run our \n",
    "indexing pipeline daily and re-create the index from scracth \n",
    "each time we run. \n",
    "\n",
    "\n",
    "For that, we created two FAQ documents for LLM Zoomcamp\n",
    "\n",
    "* [version 1](https://docs.google.com/document/d/1qZjwHkvP0lXHiE4zdbWyUXSVfmVGzougDD6N37bat3E/edit)\n",
    "* [version 2](https://docs.google.com/document/d/1T3MdwUvqCL3jrh3d3VCXQ8xE0UqRzI3bfgpfBq3ZWG0/edit)\n",
    "\n",
    "First, we will run our ingestion pipeline with version 1 \n",
    "and then with version 2.\n",
    "\n",
    "## Q1. Running Mage\n",
    "\n",
    "Clone the same repo we used in the module and run mage:"
   ]
  },
  {
   "cell_type": "code",
   "execution_count": null,
   "id": "812cb776",
   "metadata": {},
   "outputs": [],
   "source": [
    "%%bash\n",
    "git clone https://github.com/mage-ai/rag-project"
   ]
  },
  {
   "cell_type": "markdown",
   "id": "44a272ab",
   "metadata": {},
   "source": [
    "Add the following libraries to the requirements document:"
   ]
  },
  {
   "cell_type": "code",
   "execution_count": null,
   "id": "64f5edaf",
   "metadata": {},
   "outputs": [],
   "source": [
    "python-docx\n",
    "elasticsearch"
   ]
  },
  {
   "cell_type": "markdown",
   "id": "9fd4e4ce",
   "metadata": {},
   "source": [
    "Make sure you use the latest version of mage:"
   ]
  },
  {
   "cell_type": "code",
   "execution_count": null,
   "id": "fdc0d19d",
   "metadata": {},
   "outputs": [],
   "source": [
    "%%bash\n",
    "docker pull mageai/mageai:llm"
   ]
  },
  {
   "cell_type": "markdown",
   "id": "80a3bb91",
   "metadata": {},
   "source": [
    "Start it:"
   ]
  },
  {
   "cell_type": "code",
   "execution_count": null,
   "id": "a4cd8c81",
   "metadata": {},
   "outputs": [],
   "source": [
    "%%bash\n",
    "./scripts/start.sh"
   ]
  },
  {
   "metadata": {},
   "cell_type": "code",
   "outputs": [],
   "execution_count": null,
   "source": [
    "Now mage is running on [http://localhost:6789/](http://localhost:6789/)\n",
    "\n",
    "What's the version of mage?"
   ],
   "id": "41acd2f4ae0a1450"
  },
  {
   "metadata": {},
   "cell_type": "code",
   "outputs": [],
   "execution_count": null,
   "source": "ANSWER: v0.9.72",
   "id": "bf16ff56fb0472ef"
  },
  {
   "cell_type": "markdown",
   "id": "cffff7a4",
   "metadata": {},
   "source": [
    " \n",
    "\n",
    "## Creating a RAG pipeline\n",
    "\n",
    "Create a RAG pipeline\n",
    "\n",
    "\n",
    "## Q2. Reading the documents\n",
    "\n",
    "Now we can ingest the documents. Create a custom code ingestion\n",
    "block \n",
    "\n",
    "Let's read the documents. We will use the same code we used\n",
    "for parsing FAQ: [parse-faq-llm.ipynb](parse-faq-llm.ipynb)\n",
    "\n",
    "\n",
    "Use the following document_id: 1qZjwHkvP0lXHiE4zdbWyUXSVfmVGzougDD6N37bat3E\n",
    "\n",
    "Which is the document ID of\n",
    "[LLM FAQ version 1](https://docs.google.com/document/d/1qZjwHkvP0lXHiE4zdbWyUXSVfmVGzougDD6N37bat3E/edit)\n",
    "\n",
    "Copy the code to the editor\n",
    "How many FAQ documents we processed?\n",
    "\n",
    "* 1\n",
    "* 2\n",
    "* 3\n",
    "* 4\n"
   ]
  },
  {
   "metadata": {},
   "cell_type": "code",
   "outputs": [],
   "execution_count": null,
   "source": "ANSWER: 1",
   "id": "8f70bc897df517ea"
  },
  {
   "metadata": {},
   "cell_type": "code",
   "outputs": [],
   "execution_count": null,
   "source": [
    "\n",
    "## Q3. Chunking\n",
    "\n",
    "We don't really need to do any chuncking because our documents\n",
    "already have well-specified boundaries. So we just need\n",
    "to return the documents without any changes.\n",
    "\n",
    "So let's go to the transformation part and add a custom code\n",
    "chunking block:"
   ],
   "id": "919ed437caf21ab"
  },
  {
   "cell_type": "code",
   "execution_count": null,
   "id": "1eaf6d90",
   "metadata": {},
   "outputs": [],
   "source": [
    "documents = []\n",
    "\n",
    "for doc in data['documents']:\n",
    "    doc['course'] = data['course']\n",
    "    # previously we used just \"id\" for document ID\n",
    "    doc['document_id'] = generate_document_id(doc)\n",
    "    documents.append(doc)\n",
    "\n",
    "print(len(documents))\n",
    "\n",
    "return documents"
   ]
  },
  {
   "cell_type": "markdown",
   "id": "76c3e8bc",
   "metadata": {},
   "source": [
    "Where `data` is the input parameter to the transformer.\n",
    "\n",
    "And the `generate_document_id` is defined in the same way\n",
    "as in module 4:"
   ]
  },
  {
   "cell_type": "code",
   "execution_count": null,
   "id": "a0794ba0",
   "metadata": {},
   "outputs": [],
   "source": [
    "import hashlib\n",
    "\n",
    "def generate_document_id(doc):\n",
    "    combined = f\"{doc['course']}-{doc['question']}-{doc['text'][:10]}\"\n",
    "    hash_object = hashlib.md5(combined.encode())\n",
    "    hash_hex = hash_object.hexdigest()\n",
    "    document_id = hash_hex[:8]\n",
    "    return document_id"
   ]
  },
  {
   "cell_type": "markdown",
   "id": "3c4f63b0",
   "metadata": {},
   "source": [
    "Note: if instead of a single dictionary you get a list, \n",
    "add a for loop:"
   ]
  },
  {
   "cell_type": "code",
   "execution_count": null,
   "id": "2fb2f2a9",
   "metadata": {},
   "outputs": [],
   "source": [
    "for course_dict in data:\n",
    "    ..."
   ]
  },
  {
   "cell_type": "markdown",
   "id": "c660e561",
   "metadata": {},
   "source": [
    "You can check the type of `data` with this code:"
   ]
  },
  {
   "cell_type": "code",
   "execution_count": null,
   "id": "fc71c254",
   "metadata": {},
   "outputs": [],
   "source": [
    "print(type(data))"
   ]
  },
  {
   "metadata": {
    "ExecuteTime": {
     "end_time": "2024-08-19T03:22:42.482328Z",
     "start_time": "2024-08-19T03:22:42.474993Z"
    }
   },
   "cell_type": "code",
   "source": [
    "How many documents (chunks) do we have in the output?\n",
    "\n",
    "* 66\n",
    "* 76\n",
    "* 86\n",
    "* 96"
   ],
   "id": "45e1247ed3636a84",
   "outputs": [
    {
     "name": "stdout",
     "output_type": "stream",
     "text": [
      "Object `output` not found.\n"
     ]
    },
    {
     "ename": "SyntaxError",
     "evalue": "can't use starred expression here (641369161.py, line 3)",
     "output_type": "error",
     "traceback": [
      "\u001B[0;36m  Cell \u001B[0;32mIn[1], line 3\u001B[0;36m\u001B[0m\n\u001B[0;31m    * 66\u001B[0m\n\u001B[0m    ^\u001B[0m\n\u001B[0;31mSyntaxError\u001B[0m\u001B[0;31m:\u001B[0m can't use starred expression here\n"
     ]
    }
   ],
   "execution_count": 1
  },
  {
   "metadata": {},
   "cell_type": "code",
   "source": "ANSWER: 86",
   "id": "248c83b9cec75a63",
   "outputs": [],
   "execution_count": null
  },
  {
   "cell_type": "markdown",
   "id": "696dfa83",
   "metadata": {},
   "source": [
    "\n",
    "\n",
    "\n",
    "\n",
    "## Tokenization and embeddings\n",
    "\n",
    "We don't need any tokenization, so we skip it.\n",
    "\n",
    "Because currently it's required in mage, we can create \n",
    "a dummy code block:\n",
    "\n",
    "* Create a custom code block\n",
    "* Don't change it\n",
    "\n",
    "Because we will use text search, we also don't need embeddings,\n",
    "so skip it too.\n",
    "\n",
    "If you want to use sentence transformers - the ones from module\n",
    "3 - you don't need tokenization, but need embeddings\n",
    "(you don't need it for this homework)\n",
    "\n",
    "\n",
    "## Q4. Export\n",
    "\n",
    "Now we're ready to index the data with elasticsearch. For that,\n",
    "we use the Export part of the pipeline\n",
    "\n",
    "* Go to the Export part\n",
    "* Select vector databases -> Elasticsearch\n",
    "* Open the code for editing\n",
    "\n",
    "Because we won't use vector search, but usual text search, we\n",
    "will need to adjust the code.\n",
    "\n",
    "First, let's change the line where we read the index name:"
   ]
  },
  {
   "cell_type": "code",
   "execution_count": null,
   "id": "e7a357b5",
   "metadata": {},
   "outputs": [],
   "source": [
    "index_name = kwargs.get('index_name', 'documents')\n",
    "``` \n",
    "\n",
    "To `index_name_prefix` - we will parametrize it with the day\n",
    "and time we run the pipeline\n",
    "\n",
    "```python\n",
    "from datetime import datetime\n",
    "\n",
    "index_name_prefix = kwargs.get('index_name', 'documents')\n",
    "current_time = datetime.now().strftime(\"%Y%m%d_%M%S\")\n",
    "index_name = f\"{index_name_prefix}_{current_time}\"\n",
    "print(\"index name:\", index_name)"
   ]
  },
  {
   "cell_type": "markdown",
   "id": "411a8713",
   "metadata": {},
   "source": [
    "We will need to save the name in a global variable, so it can be accessible in other code blocks"
   ]
  },
  {
   "cell_type": "code",
   "execution_count": null,
   "id": "b11333ff",
   "metadata": {},
   "outputs": [],
   "source": [
    "from mage_ai.data_preparation.variable_manager import set_global_variable\n",
    "\n",
    "set_global_variable('YOUR_PIPELINE_NAME', 'index_name', index_name)"
   ]
  },
  {
   "cell_type": "markdown",
   "id": "dabfac27",
   "metadata": {},
   "source": [
    "Where your pipeline name is the name of the pipeline, e.g.\n",
    "`transcendent_nexus` (replace the space with underscore `_`)\n",
    "\n",
    "\n",
    "\n",
    "Replace index settings with the settings we used previously:"
   ]
  },
  {
   "cell_type": "code",
   "execution_count": null,
   "id": "50bb0dca",
   "metadata": {},
   "outputs": [],
   "source": [
    "index_settings = {\n",
    "    \"settings\": {\n",
    "        \"number_of_shards\": number_of_shards,\n",
    "        \"number_of_replicas\": number_of_replicas\n",
    "    },\n",
    "    \"mappings\": {\n",
    "        \"properties\": {\n",
    "            \"text\": {\"type\": \"text\"},\n",
    "            \"section\": {\"type\": \"text\"},\n",
    "            \"question\": {\"type\": \"text\"},\n",
    "            \"course\": {\"type\": \"keyword\"},\n",
    "            \"document_id\": {\"type\": \"keyword\"}\n",
    "        }\n",
    "    }\n",
    "}"
   ]
  },
  {
   "cell_type": "markdown",
   "id": "8c2a8158",
   "metadata": {},
   "source": [
    "Remove the embeddings line:"
   ]
  },
  {
   "cell_type": "code",
   "execution_count": null,
   "id": "43b58eb8",
   "metadata": {},
   "outputs": [],
   "source": [
    "if isinstance(document[vector_column_name], np.ndarray):\n",
    "    document[vector_column_name] = document[vector_column_name].tolist()"
   ]
  },
  {
   "cell_type": "markdown",
   "id": "6930f69a",
   "metadata": {},
   "source": [
    "At the end (outside of the indexing for loop), print the last document:"
   ]
  },
  {
   "cell_type": "code",
   "execution_count": null,
   "id": "fcd0a79a",
   "metadata": {},
   "outputs": [],
   "source": [
    "print(document)"
   ]
  },
  {
   "metadata": {},
   "cell_type": "code",
   "outputs": [],
   "execution_count": null,
   "source": [
    "Now execute the block.\n",
    "\n",
    "What's the last document id?\n",
    "\n",
    "Also note the index name."
   ],
   "id": "51ea81ad5f8a33c0"
  },
  {
   "metadata": {},
   "cell_type": "code",
   "outputs": [],
   "execution_count": null,
   "source": "ANSWER: 6fc3236a",
   "id": "2007548695724914"
  },
  {
   "metadata": {},
   "cell_type": "code",
   "outputs": [],
   "execution_count": null,
   "source": [
    "## Q5. Testing the retrieval\n",
    "\n",
    "Now let's test the retrieval. Use mage or jupyter notebook to\n",
    "test it.\n",
    "\n",
    "Let's use the following query: \"When is the next cohort?\"\n",
    "\n",
    "What's the ID of the top matching result?"
   ],
   "id": "35ac3dc70d58f463"
  },
  {
   "metadata": {},
   "cell_type": "code",
   "outputs": [],
   "execution_count": null,
   "source": "ANSWER: bf024675",
   "id": "afdddcd8cbe7be1f"
  },
  {
   "metadata": {},
   "cell_type": "code",
   "outputs": [],
   "execution_count": null,
   "source": [
    "## Q6. Reindexing\n",
    "\n",
    "Our FAQ document changes: every day course participants add\n",
    "new records or improve existing ones.\n",
    "\n",
    "Imagine some time passed and the document changed. For that we have another version of the FAQ document: [version 2](https://docs.google.com/document/d/1T3MdwUvqCL3jrh3d3VCXQ8xE0UqRzI3bfgpfBq3ZWG0/edit).\n",
    "\n",
    "The ID of this document is `1T3MdwUvqCL3jrh3d3VCXQ8xE0UqRzI3bfgpfBq3ZWG0`.\n",
    "\n",
    "Let's re-execute the entire pipeline with the updated data.\n",
    "\n",
    "For the same query \"When is the next cohort?\". What's the ID of the top matching result?"
   ],
   "id": "8f835d06627c2f1e"
  },
  {
   "metadata": {},
   "cell_type": "code",
   "outputs": [],
   "execution_count": null,
   "source": "ANSWER: b6fa77f3",
   "id": "b105ce626c10ff4f"
  },
  {
   "cell_type": "markdown",
   "id": "4611a9b0",
   "metadata": {},
   "source": [
    "\n",
    "\n",
    "\n",
    "\n",
    "## Submit the results\n",
    "\n",
    "* Submit your results here: https://courses.datatalks.club/llm-zoomcamp-2024/homework/hw5\n",
    "* It's possible that your answers won't match exactly. If it's the case, select the closest one."
   ]
  }
 ],
 "metadata": {
  "kernelspec": {
   "name": "python3",
   "language": "python",
   "display_name": "Python 3 (ipykernel)"
  }
 },
 "nbformat": 4,
 "nbformat_minor": 5
}
