{
 "cells": [
  {
   "metadata": {},
   "cell_type": "markdown",
   "source": "Question 1:",
   "id": "23e26f411828b539"
  },
  {
   "metadata": {},
   "cell_type": "markdown",
   "source": "ANS: 0.078",
   "id": "f5d7423dee477286"
  },
  {
   "metadata": {},
   "cell_type": "markdown",
   "source": "Question 2:",
   "id": "3bb39caba503743a"
  },
  {
   "metadata": {},
   "cell_type": "markdown",
   "source": "ANS: (375, 768)",
   "id": "18eb45986e34f88d"
  },
  {
   "metadata": {},
   "cell_type": "markdown",
   "source": "Question 3:",
   "id": "af410b7535039ba5"
  },
  {
   "metadata": {},
   "cell_type": "markdown",
   "source": "ANS: 0.6506573",
   "id": "101376a99def3fc9"
  },
  {
   "metadata": {},
   "cell_type": "markdown",
   "source": "Question 4: ",
   "id": "6303a4996a85012b"
  },
  {
   "metadata": {},
   "cell_type": "markdown",
   "source": "ANS: 0.9426",
   "id": "11ac89edac500b44"
  },
  {
   "metadata": {},
   "cell_type": "markdown",
   "source": "Question 5:",
   "id": "22f0351ef10ad2c4"
  },
  {
   "metadata": {},
   "cell_type": "markdown",
   "source": "ANS: ee58a693",
   "id": "3436dc53bf354e6a"
  },
  {
   "metadata": {},
   "cell_type": "markdown",
   "source": "Question 6:",
   "id": "be3e2a65d238da42"
  },
  {
   "metadata": {},
   "cell_type": "markdown",
   "source": "ANS: 0.9426",
   "id": "d7bd7d878a117477"
  },
  {
   "metadata": {},
   "cell_type": "markdown",
   "source": "",
   "id": "6ebefb7ffd0f7ad3"
  },
  {
   "metadata": {},
   "cell_type": "markdown",
   "source": "",
   "id": "331ef05cd4e0b005"
  },
  {
   "metadata": {},
   "cell_type": "markdown",
   "source": "",
   "id": "d2a825a2e63c369e"
  },
  {
   "metadata": {},
   "cell_type": "markdown",
   "source": "",
   "id": "fde60e905abcdf0b"
  },
  {
   "metadata": {},
   "cell_type": "markdown",
   "source": "",
   "id": "afad27088bea0c56"
  },
  {
   "metadata": {},
   "cell_type": "markdown",
   "source": "",
   "id": "ece728028d915c24"
  }
 ],
 "metadata": {
  "kernelspec": {
   "display_name": "Python 3",
   "language": "python",
   "name": "python3"
  },
  "language_info": {
   "codemirror_mode": {
    "name": "ipython",
    "version": 2
   },
   "file_extension": ".py",
   "mimetype": "text/x-python",
   "name": "python",
   "nbconvert_exporter": "python",
   "pygments_lexer": "ipython2",
   "version": "2.7.6"
  }
 },
 "nbformat": 4,
 "nbformat_minor": 5
}
