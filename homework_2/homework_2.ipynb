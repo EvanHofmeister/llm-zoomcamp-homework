{
 "cells": [
  {
   "metadata": {},
   "cell_type": "markdown",
   "source": "Q1. Running Ollama with Docker",
   "id": "47b7cf73e97f4cd9"
  },
  {
   "metadata": {},
   "cell_type": "markdown",
   "source": "Run: `docker exec -it ollama bash`",
   "id": "1be76a37c3ba0058"
  },
  {
   "metadata": {},
   "cell_type": "markdown",
   "source": " Answer: 0.1.44",
   "id": "4a1aebd539e6c26a"
  },
  {
   "metadata": {},
   "cell_type": "markdown",
   "source": "Q2. Downloading an LLM",
   "id": "bf9c92d5dab6aa7f"
  },
  {
   "metadata": {},
   "cell_type": "markdown",
   "source": [
    " Answer:\n",
    "\n",
    "`{\"schemaVersion\":2,\"mediaType\":\"application/vnd.docker.distribution.manifest.v2+json\",\"config\":{\"mediaType\":\"application/vnd.docker.container.image.v1+json\",\"digest\":\"sha256:887433b89a901c156f7e6944442f3c9e57f3c55d6ed52042cbb7303aea994290\",\"size\":483},\"layers\":[{\"mediaType\":\"application/vnd.ollama.image.model\",\"digest\":\"sha256:c1864a5eb19305c40519da12cc543519e48a0697ecd30e15d5ac228644957d12\",\"size\":1678447520},{\"mediaType\":\"application/vnd.ollama.image.license\",\"digest\":\"sha256:097a36493f718248845233af1d3fefe7a303f864fae13bc31a3a9704229378ca\",\"size\":8433},{\"mediaType\":\"application/vnd.ollama.image.template\",\"digest\":\"sha256:109037bec39c0becc8221222ae23557559bc594290945a2c4221ab4f303b8871\",\"size\":136},{\"mediaType\":\"application/vnd.ollama.image.params\",\"digest\":\"sha256:22a838ceb7fb22755a3b0ae9b4eadde629d19be1f651f73efb8c6b4e2cd0eea0\",\"size\":84}]}`"
   ],
   "id": "4b99eb076584565e"
  },
  {
   "metadata": {},
   "cell_type": "markdown",
   "source": "Q3. Running the LLM",
   "id": "e390cc2ff626420f"
  },
  {
   "metadata": {},
   "cell_type": "markdown",
   "source": "Run: `ollama run gemma:2b`",
   "id": "24182371b9b445c6"
  },
  {
   "metadata": {},
   "cell_type": "markdown",
   "source": " Answer: 10 * 10",
   "id": "db6023fd1b7d325e"
  },
  {
   "metadata": {},
   "cell_type": "markdown",
   "source": "Q4. Donwloading the weights",
   "id": "95636f279d0af24a"
  },
  {
   "metadata": {},
   "cell_type": "markdown",
   "source": " Answer: ~1.6G",
   "id": "bcc18da6e2a386cf"
  },
  {
   "metadata": {},
   "cell_type": "markdown",
   "source": "Q5. Adding the weights",
   "id": "e79ab9ef5ad27799"
  },
  {
   "metadata": {},
   "cell_type": "markdown",
   "source": " Answer: /ollama_files",
   "id": "1d880b16a75c7043"
  },
  {
   "metadata": {},
   "cell_type": "markdown",
   "source": "Q6. Serving it",
   "id": "75b7d5cc429a8580"
  },
  {
   "metadata": {},
   "cell_type": "markdown",
   "source": " Answer: 304",
   "id": "75ff03a7fbcbe60b"
  },
  {
   "metadata": {},
   "cell_type": "code",
   "outputs": [],
   "execution_count": null,
   "source": "",
   "id": "ced5be0f0a63d094"
  }
 ],
 "metadata": {
  "kernelspec": {
   "display_name": "Python 3",
   "language": "python",
   "name": "python3"
  },
  "language_info": {
   "codemirror_mode": {
    "name": "ipython",
    "version": 2
   },
   "file_extension": ".py",
   "mimetype": "text/x-python",
   "name": "python",
   "nbconvert_exporter": "python",
   "pygments_lexer": "ipython2",
   "version": "2.7.6"
  }
 },
 "nbformat": 4,
 "nbformat_minor": 5
}
